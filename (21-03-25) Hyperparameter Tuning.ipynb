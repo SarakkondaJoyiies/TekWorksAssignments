{
 "cells": [
  {
   "cell_type": "markdown",
   "id": "edcee2d6",
   "metadata": {},
   "source": [
    "# ***Hyper parameter tunning***"
   ]
  },
  {
   "cell_type": "code",
   "execution_count": null,
   "id": "e4b80e03",
   "metadata": {},
   "outputs": [],
   "source": [
    "import numpy as np\n",
    "import pandas as pd\n",
    "import matplotlib.pyplot as plt\n",
    "import seaborn as sns\n",
    "from sklearn.model_selection import train_test_split, GridSearchCV, RandomizedSearchCV\n",
    "from sklearn.ensemble import RandomForestClassifier\n",
    "from sklearn.metrics import accuracy_score, classification_report, confusion_matrix\n",
    "from sklearn.datasets import load_iris"
   ]
  },
  {
   "cell_type": "markdown",
   "id": "8a8a45d8",
   "metadata": {},
   "source": [
    "# Load And Explore Dataset"
   ]
  },
  {
   "cell_type": "code",
   "execution_count": 9,
   "id": "25c67a94",
   "metadata": {},
   "outputs": [],
   "source": [
    "df = load_iris()\n",
    "X = df.data\n",
    "y = df.target"
   ]
  },
  {
   "cell_type": "markdown",
   "id": "cf1cc14f",
   "metadata": {},
   "source": [
    "# ***Define Hyperparameter Grid***"
   ]
  },
  {
   "cell_type": "code",
   "execution_count": 10,
   "id": "79c11a55",
   "metadata": {},
   "outputs": [],
   "source": [
    "param_grid = {\n",
    "    'n_estimators':[10, 50, 100, 200],\n",
    "    'max_depth':[5, 10, 20, None],\n",
    "    'min_samples_split':[2, 5, 10],\n",
    "    'min_samples_leaf':[1, 2, 4]\n",
    "}\n",
    "\n",
    "# now split into the traning and testing sets (80-20 split)\n",
    "X_train, X_test, y_train, y_test = train_test_split(X, y, test_size=0.2, random_state=42)"
   ]
  },
  {
   "cell_type": "markdown",
   "id": "8d7cfa2b",
   "metadata": {},
   "source": [
    "# ***Apply Grid Search CV***"
   ]
  },
  {
   "cell_type": "code",
   "execution_count": 12,
   "id": "9a7165ac",
   "metadata": {},
   "outputs": [
    {
     "name": "stdout",
     "output_type": "stream",
     "text": [
      "Fitting 5 folds for each of 144 candidates, totalling 720 fits\n",
      "Best Parameters from Grid Search: {'max_depth': 5, 'min_samples_leaf': 4, 'min_samples_split': 5, 'n_estimators': 100}\n"
     ]
    }
   ],
   "source": [
    "# Grid search cv\n",
    "grid_search = GridSearchCV(RandomForestClassifier(), param_grid, cv=5, n_jobs=-1, verbose=1)\n",
    "grid_search.fit(X_train, y_train)\n",
    "\n",
    "# Get best parameters\n",
    "print('Best Parameters from Grid Search:', grid_search.best_params_)"
   ]
  },
  {
   "cell_type": "code",
   "execution_count": 13,
   "id": "d282cc9b",
   "metadata": {},
   "outputs": [
    {
     "name": "stdout",
     "output_type": "stream",
     "text": [
      "Fitting 5 folds for each of 10 candidates, totalling 50 fits\n",
      "Best Parameters from Random Search: {'n_estimators': 100, 'min_samples_split': 10, 'min_samples_leaf': 4, 'max_depth': 5}\n"
     ]
    }
   ],
   "source": [
    "# Randomized search cv\n",
    "random_search = RandomizedSearchCV(RandomForestClassifier(), param_grid, n_iter=10,  cv=5, n_jobs=-1, verbose=1)\n",
    "random_search.fit(X_train, y_train)\n",
    "\n",
    "# Get best parameters\n",
    "print('Best Parameters from Random Search:', random_search.best_params_)"
   ]
  },
  {
   "cell_type": "markdown",
   "id": "8024dd28",
   "metadata": {},
   "source": [
    "# ***Evaluate Model Performance***"
   ]
  },
  {
   "cell_type": "code",
   "execution_count": 16,
   "id": "aa46dc1e",
   "metadata": {},
   "outputs": [
    {
     "name": "stdout",
     "output_type": "stream",
     "text": [
      "Grid Search Accuracy: 1.00\n",
      "Random Search Accuracy: 1.00\n"
     ]
    }
   ],
   "source": [
    "# Train models with best parameters\n",
    "best_grid_model = grid_search.best_estimator_\n",
    "best_random_model = random_search.best_estimator_\n",
    "\n",
    "# Predictions\n",
    "y_pred_grid = best_grid_model.predict(X_test)\n",
    "y_pred_random = best_random_model.predict(X_test)\n",
    "\n",
    "# Accuracy scores\n",
    "acc_grid = accuracy_score(y_test, y_pred_grid)\n",
    "acc_random = accuracy_score(y_test, y_pred_random)\n",
    "\n",
    "print(f'Grid Search Accuracy: {acc_grid:.2f}')\n",
    "print(f'Random Search Accuracy: {acc_random:.2f}')"
   ]
  },
  {
   "cell_type": "code",
   "execution_count": null,
   "id": "23319212",
   "metadata": {},
   "outputs": [],
   "source": []
  }
 ],
 "metadata": {
  "kernelspec": {
   "display_name": "Python 3 (ipykernel)",
   "language": "python",
   "name": "python3"
  },
  "language_info": {
   "codemirror_mode": {
    "name": "ipython",
    "version": 3
   },
   "file_extension": ".py",
   "mimetype": "text/x-python",
   "name": "python",
   "nbconvert_exporter": "python",
   "pygments_lexer": "ipython3",
   "version": "3.11.5"
  }
 },
 "nbformat": 4,
 "nbformat_minor": 5
}
