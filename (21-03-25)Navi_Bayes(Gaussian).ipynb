{
 "cells": [
  {
   "cell_type": "code",
   "execution_count": 20,
   "id": "31038256-7ba8-4102-8f8d-d6ef69881995",
   "metadata": {},
   "outputs": [],
   "source": [
    "import numpy as np\n",
    "import pandas as pd\n",
    "import matplotlib.pyplot as plt\n",
    "import seaborn as sns\n",
    "from sklearn.model_selection import train_test_split\n",
    "from sklearn.feature_extraction.text import CountVectorizer, TfidfTransformer\n",
    "from sklearn.naive_bayes import GaussianNB, MultinomialNB, BernoulliNB\n",
    "from sklearn.preprocessing import StandardScaler\n",
    "from sklearn.metrics import accuracy_score, classification_report, confusion_matrix"
   ]
  },
  {
   "cell_type": "markdown",
   "id": "d45e1be8-1593-483e-8c64-1d1184edf3bc",
   "metadata": {},
   "source": [
    "**Load the Dataset**"
   ]
  },
  {
   "cell_type": "code",
   "execution_count": 21,
   "id": "a60436d1-dc65-4f01-a8c5-e118470b1506",
   "metadata": {},
   "outputs": [
    {
     "name": "stdout",
     "output_type": "stream",
     "text": [
      "   label                                               text\n",
      "0      0  Go until jurong point, crazy.. Available only ...\n",
      "1      0                      Ok lar... Joking wif u oni...\n",
      "2      1  Free entry in 2 a wkly comp to win FA Cup fina...\n",
      "3      0  U dun say so early hor... U c already then say...\n",
      "4      0  Nah I don't think he goes to usf, he lives aro...\n"
     ]
    }
   ],
   "source": [
    "df = pd.read_csv('spam.csv', encoding='latin-1')[['v1', 'v2']]\n",
    "df.columns = ['label', 'text']\n",
    "df['label'] = df['label'].map({'ham': 0, 'spam': 1})\n",
    "print(df.head())"
   ]
  },
  {
   "cell_type": "markdown",
   "id": "fa6ab08a-c4a4-4a8b-842b-edbd178c538f",
   "metadata": {},
   "source": [
    "**Feature Engineering**"
   ]
  },
  {
   "cell_type": "code",
   "execution_count": 24,
   "id": "7299b21d-565a-4aab-9f4c-59b4d722a58c",
   "metadata": {},
   "outputs": [],
   "source": [
    "# Feature Engineering: Extract numerical features\n",
    "df['text_length'] = df['text'].apply(len)\n",
    "df['num_words'] = df['text'].apply(lambda x: len(x.split()))\n",
    "df['num_digits'] = df['text'].apply(lambda x: sum(c.isdigit() for c in x))"
   ]
  },
  {
   "cell_type": "markdown",
   "id": "553bf10b-4c85-46d5-8760-647c4c761b0d",
   "metadata": {},
   "source": [
    "**Define features and target**"
   ]
  },
  {
   "cell_type": "code",
   "execution_count": 26,
   "id": "ab490e3e-1301-47c7-84f4-6b368eda889a",
   "metadata": {},
   "outputs": [],
   "source": [
    "# Define features and target\n",
    "X = df[['text_length', 'num_words', 'num_digits']]\n",
    "y = df['label']"
   ]
  },
  {
   "cell_type": "markdown",
   "id": "76cfe3a4-3bb9-4a5d-949d-d443ad2a0927",
   "metadata": {},
   "source": [
    "**Split dataset**"
   ]
  },
  {
   "cell_type": "code",
   "execution_count": 28,
   "id": "5cc134a8-f817-4c18-b27c-0125a64cb484",
   "metadata": {},
   "outputs": [],
   "source": [
    "# Split dataset\n",
    "X_train, X_test, y_train, y_test = train_test_split(X, y, test_size=0.2, random_state=42)"
   ]
  },
  {
   "cell_type": "markdown",
   "id": "cbe407a8-0f3e-4849-a212-dffe2f448df6",
   "metadata": {},
   "source": [
    "**Standardize features**"
   ]
  },
  {
   "cell_type": "code",
   "execution_count": 30,
   "id": "f00f0e2f-98b4-41cb-bffe-203db6cd55f3",
   "metadata": {},
   "outputs": [],
   "source": [
    "# Standardize features\n",
    "scaler = StandardScaler()\n",
    "X_train_scaled = scaler.fit_transform(X_train)\n",
    "X_test_scaled = scaler.transform(X_test)"
   ]
  },
  {
   "cell_type": "markdown",
   "id": "23541b3b-fb04-4d29-be09-ddc3f7afd269",
   "metadata": {},
   "source": [
    "**Train Gaussian Naïve Bayes**"
   ]
  },
  {
   "cell_type": "code",
   "execution_count": 32,
   "id": "fb18b358-8868-4b31-9771-efee2bbe57fe",
   "metadata": {},
   "outputs": [],
   "source": [
    "# Train Gaussian Naïve Bayes\n",
    "gnb = GaussianNB()\n",
    "gnb.fit(X_train_scaled, y_train)\n",
    "y_pred_gnb = gnb.predict(X_test_scaled)"
   ]
  },
  {
   "cell_type": "markdown",
   "id": "45494b60-9a3a-4a40-a22e-e1b23a5624bd",
   "metadata": {},
   "source": [
    "**Evaluate Model**"
   ]
  },
  {
   "cell_type": "code",
   "execution_count": 34,
   "id": "2ccddcbd-da31-4d91-91bd-1115ec95937a",
   "metadata": {},
   "outputs": [
    {
     "name": "stdout",
     "output_type": "stream",
     "text": [
      "Gaussian Naïve Bayes Accuracy: 0.9802690582959641\n",
      "              precision    recall  f1-score   support\n",
      "\n",
      "           0       0.99      0.99      0.99       965\n",
      "           1       0.92      0.93      0.93       150\n",
      "\n",
      "    accuracy                           0.98      1115\n",
      "   macro avg       0.96      0.96      0.96      1115\n",
      "weighted avg       0.98      0.98      0.98      1115\n",
      "\n"
     ]
    }
   ],
   "source": [
    "# Evaluate Model\n",
    "print(\"Gaussian Naïve Bayes Accuracy:\", accuracy_score(y_test, y_pred_gnb))\n",
    "print(classification_report(y_test, y_pred_gnb))"
   ]
  },
  {
   "cell_type": "code",
   "execution_count": null,
   "id": "38f124e4-0978-416d-ac45-c83073ceadb9",
   "metadata": {},
   "outputs": [],
   "source": []
  }
 ],
 "metadata": {
  "kernelspec": {
   "display_name": "Python [conda env:base]",
   "language": "python",
   "name": "conda-base-py"
  },
  "language_info": {
   "codemirror_mode": {
    "name": "ipython",
    "version": 3
   },
   "file_extension": ".py",
   "mimetype": "text/x-python",
   "name": "python",
   "nbconvert_exporter": "python",
   "pygments_lexer": "ipython3",
   "version": "3.11.5"
  }
 },
 "nbformat": 4,
 "nbformat_minor": 5
}
