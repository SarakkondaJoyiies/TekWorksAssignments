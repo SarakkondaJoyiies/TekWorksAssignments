{
 "cells": [
  {
   "cell_type": "code",
   "execution_count": 18,
   "id": "bf302c8a",
   "metadata": {},
   "outputs": [],
   "source": [
    "def check_password(password):\n",
    "    if len(password)<10 or len(password)>15:\n",
    "        return \"Please enter valid password within the range of 10-15\"\n",
    "    elif password.isdigit() or password.isalpha():\n",
    "        return \"Make use of combination of letters and alphabets\"\n",
    "    elif not any(char.isupper() for char in password):\n",
    "        return \"Use atleast one uppercase letter\"\n",
    "    elif not any(char.islower() for char in password):\n",
    "        return \"Use atleast one lowercase letter\"\n",
    "    elif not any(char.isdigit() for char in password):\n",
    "        return \"Use atleast one digit in the password\"\n",
    "    if not any(char in ['@','#','$'] for char in password):\n",
    "        return \"Use atleast one special character\"\n",
    "    elif not any(char.isspace() for char in password):\n",
    "        return \"Password should not contain any white spaces\"\n",
    "    if password[len(password)-1]=='.' or password[len(password)-1]=='@':\n",
    "        return \"Password should not end with .(dot) or @ symbol\"\n"
   ]
  },
  {
   "cell_type": "code",
   "execution_count": 27,
   "id": "582c7a63",
   "metadata": {},
   "outputs": [
    {
     "data": {
      "text/plain": [
       "6"
      ]
     },
     "execution_count": 27,
     "metadata": {},
     "output_type": "execute_result"
    }
   ],
   "source": [
    "def factorial(num):\n",
    "    if num==0 or num==1:\n",
    "        factorial_val=1\n",
    "    elif num>1:\n",
    "        factorial_val=1\n",
    "        factorial_val=num*factorial(num-1)\n",
    "    return factorial_val\n",
    "factorial(3)"
   ]
  },
  {
   "cell_type": "code",
   "execution_count": 33,
   "id": "61b6887b",
   "metadata": {},
   "outputs": [
    {
     "name": "stdout",
     "output_type": "stream",
     "text": [
      "[56, 66, 45, 34, 12, 56, 66, 45]\n"
     ]
    }
   ],
   "source": [
    "a=[56,66,45,34,12]\n",
    "b=[56,66,45]\n",
    "a.extend(b)\n",
    "print(a)\n",
    "#print(a[5][2])"
   ]
  },
  {
   "cell_type": "code",
   "execution_count": 56,
   "id": "28411b4a",
   "metadata": {},
   "outputs": [
    {
     "name": "stdout",
     "output_type": "stream",
     "text": [
      "Cart contents: {'Laptop': 50000, 'headphones': 2000, 'washingmachine': 35000}\n",
      "Total price after cart discount: 87000\n",
      "Final price after deposit calculation: 130500.0\n"
     ]
    }
   ],
   "source": [
    "def calculate_total(cart):\n",
    "    total = 0\n",
    "    for price in cart.values():\n",
    "        if price > 25000: \n",
    "            total += price\n",
    "    \n",
    "    if len(cart) > 5:\n",
    "        total *= 0.9\n",
    "    return total\n",
    "def deposit_cal(total):\n",
    "    if total > 20000 and total < 50000:\n",
    "        total *= 0.9\n",
    "    elif total > 50000:\n",
    "        total *= 1.5\n",
    "    return total\n",
    "cart = {'Laptop': 50000, 'headphones': 40000, 'phone': 10000}\n",
    "\n",
    "print(\"Cart:\", cart)\n",
    "price = calculate_total(cart)\n",
    "print(f\"Total price after applying cart conditions: {price}\")\n",
    "\n",
    "final_price = deposit_cal(price)\n",
    "print(f\"Final price after deposit calculation: {final_price}\")\n"
   ]
  },
  {
   "cell_type": "code",
   "execution_count": null,
   "id": "7af1b790",
   "metadata": {},
   "outputs": [],
   "source": []
  },
  {
   "cell_type": "code",
   "execution_count": null,
   "id": "04777986",
   "metadata": {},
   "outputs": [],
   "source": []
  }
 ],
 "metadata": {
  "kernelspec": {
   "display_name": "Python 3 (ipykernel)",
   "language": "python",
   "name": "python3"
  },
  "language_info": {
   "codemirror_mode": {
    "name": "ipython",
    "version": 3
   },
   "file_extension": ".py",
   "mimetype": "text/x-python",
   "name": "python",
   "nbconvert_exporter": "python",
   "pygments_lexer": "ipython3",
   "version": "3.11.5"
  }
 },
 "nbformat": 4,
 "nbformat_minor": 5
}
