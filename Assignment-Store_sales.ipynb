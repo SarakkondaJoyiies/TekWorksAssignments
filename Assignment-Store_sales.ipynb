{
 "cells": [
  {
   "cell_type": "markdown",
   "id": "d736cf34-e043-4789-91b0-c19887e0143f",
   "metadata": {},
   "source": [
    "# Assignment on Store_sales dataset\n",
    "\n",
    "**Load the Dataset**"
   ]
  },
  {
   "cell_type": "code",
   "execution_count": 3,
   "id": "fd79e268-0bd3-4844-af8d-0b1e2b7ceea6",
   "metadata": {},
   "outputs": [],
   "source": [
    "import pandas as pd\n",
    "data=pd.read_csv(\"C://Users//JOYIIES//OneDrive//Desktop//COE training//store_sales.csv\")"
   ]
  },
  {
   "cell_type": "markdown",
   "id": "13b8009e-28aa-4c56-8804-a6c417182541",
   "metadata": {},
   "source": [
    "**Calculate the total sales for each store across all months.**"
   ]
  },
  {
   "cell_type": "code",
   "execution_count": 13,
   "id": "3f148a00-b0e5-4caf-85d3-3483c4f62697",
   "metadata": {},
   "outputs": [
    {
     "name": "stdout",
     "output_type": "stream",
     "text": [
      "   store_id  Total_Sales\n",
      "0       S_1          356\n",
      "1       S_2          348\n",
      "2       S_3          362\n",
      "3       S_4          270\n",
      "4       S_5          318\n",
      "..      ...          ...\n",
      "95     S_96          370\n",
      "96     S_97          308\n",
      "97     S_98          336\n",
      "98     S_99          346\n",
      "99    S_100          360\n",
      "\n",
      "[100 rows x 2 columns]\n"
     ]
    }
   ],
   "source": [
    "data['Total_Sales'] = data.iloc[:, 2:].sum(axis=1)\n",
    "print(data[['store_id', 'Total_Sales']])\n"
   ]
  },
  {
   "cell_type": "markdown",
   "id": "47673b50-bfea-4eb6-9e50-918e87c7c1ff",
   "metadata": {},
   "source": [
    "**Find the average sales for each month across all stores**"
   ]
  },
  {
   "cell_type": "code",
   "execution_count": 12,
   "id": "cfea1028-bd85-4552-ab60-936a13c7d84b",
   "metadata": {},
   "outputs": [
    {
     "name": "stdout",
     "output_type": "stream",
     "text": [
      "Jan             14.46\n",
      "Feb             15.09\n",
      "Mar             14.56\n",
      "Apr             14.57\n",
      "May             13.56\n",
      "Jun             13.80\n",
      "July            14.38\n",
      "Aug             15.81\n",
      "Sep             14.91\n",
      "Oct             14.10\n",
      "Nov             15.31\n",
      "Dec             13.57\n",
      "Total_Sales    174.12\n",
      "dtype: float64\n"
     ]
    }
   ],
   "source": [
    "avg_monthly_sales = data.iloc[:, 2:].agg('mean')\n",
    "print(avg_monthly_sales)\n"
   ]
  },
  {
   "cell_type": "markdown",
   "id": "6dd912e0-9984-42b8-9bf0-db10a69a300c",
   "metadata": {},
   "source": [
    "**Identify the store with the highest total sales.**"
   ]
  },
  {
   "cell_type": "code",
   "execution_count": 11,
   "id": "dca54b78-dbe5-4095-8e14-e1a73c34dff6",
   "metadata": {},
   "outputs": [
    {
     "name": "stdout",
     "output_type": "stream",
     "text": [
      "store_id       S_99\n",
      "Total_Sales     214\n",
      "dtype: object\n"
     ]
    }
   ],
   "source": [
    "highest_sales_store = data[['store_id', 'Total_Sales']].max()\n",
    "print(highest_sales_store)\n"
   ]
  },
  {
   "cell_type": "markdown",
   "id": "1c6e048a-7dbe-4975-8126-0ff9d46d0b8d",
   "metadata": {},
   "source": [
    "**Calculate the total sales for each city.**"
   ]
  },
  {
   "cell_type": "code",
   "execution_count": 10,
   "id": "98fdf5f3-5721-4353-b34d-713e98c20450",
   "metadata": {},
   "outputs": [
    {
     "name": "stdout",
     "output_type": "stream",
     "text": [
      "city\n",
      "Arizona       3951\n",
      "California    7522\n",
      "Texas         5939\n",
      "Name: Total_Sales, dtype: int64\n"
     ]
    }
   ],
   "source": [
    "city_sales = data.groupby('city')['Total_Sales'].sum()\n",
    "print(city_sales)"
   ]
  },
  {
   "cell_type": "markdown",
   "id": "b9cd0e10-c37e-485a-9b6b-e6a67cd19c7d",
   "metadata": {},
   "source": [
    "**List stores with total sales greater than 200**"
   ]
  },
  {
   "cell_type": "code",
   "execution_count": 9,
   "id": "a1134ab7-96fe-416c-8da1-daddad0064e6",
   "metadata": {},
   "outputs": [
    {
     "name": "stdout",
     "output_type": "stream",
     "text": [
      "   store_id  Total_Sales\n",
      "37     S_38          207\n",
      "39     S_40          204\n",
      "50     S_51          210\n",
      "61     S_62          214\n",
      "69     S_70          206\n",
      "72     S_73          213\n",
      "77     S_78          211\n",
      "85     S_86          214\n",
      "86     S_87          203\n",
      "92     S_93          204\n"
     ]
    }
   ],
   "source": [
    "high_sales_stores = data[data['Total_Sales'] > 200][['store_id', 'Total_Sales']]\n",
    "print(high_sales_stores)"
   ]
  },
  {
   "cell_type": "markdown",
   "id": "00a46208-69b2-4577-9f68-c278af43c557",
   "metadata": {},
   "source": [
    "**Which month had the highest average sales across all stores?**\n"
   ]
  },
  {
   "cell_type": "code",
   "execution_count": 21,
   "id": "9b85a613-a4b4-499c-9782-97e585120f52",
   "metadata": {},
   "outputs": [
    {
     "name": "stdout",
     "output_type": "stream",
     "text": [
      "348.24\n"
     ]
    }
   ],
   "source": [
    "avg_monthly_sales = data.iloc[:, 2:].agg('mean')\n",
    "high_avg_monthly_sales = avg_monthly_sales.max()\n",
    "print(high_avg_monthly_sales)\n"
   ]
  },
  {
   "cell_type": "code",
   "execution_count": null,
   "id": "c46bc5fe-5318-45d2-95ca-e7a9eb0c2010",
   "metadata": {},
   "outputs": [],
   "source": []
  },
  {
   "cell_type": "markdown",
   "id": "37455b7e-1c05-45d5-9dd1-454527319264",
   "metadata": {},
   "source": [
    "**Which city generated the most revenue?**"
   ]
  },
  {
   "cell_type": "code",
   "execution_count": 23,
   "id": "0ceea861-e5f6-4a86-86f0-788d68a898a5",
   "metadata": {},
   "outputs": [
    {
     "name": "stdout",
     "output_type": "stream",
     "text": [
      "California\n"
     ]
    }
   ],
   "source": [
    "most_revenue_city = city_sales.idxmax()\n",
    "print(most_revenue_city)"
   ]
  },
  {
   "cell_type": "code",
   "execution_count": null,
   "id": "08f77348-6da9-42af-85d9-fe741470b257",
   "metadata": {},
   "outputs": [],
   "source": []
  }
 ],
 "metadata": {
  "kernelspec": {
   "display_name": "Python 3 (ipykernel)",
   "language": "python",
   "name": "python3"
  },
  "language_info": {
   "codemirror_mode": {
    "name": "ipython",
    "version": 3
   },
   "file_extension": ".py",
   "mimetype": "text/x-python",
   "name": "python",
   "nbconvert_exporter": "python",
   "pygments_lexer": "ipython3",
   "version": "3.12.7"
  }
 },
 "nbformat": 4,
 "nbformat_minor": 5
}
