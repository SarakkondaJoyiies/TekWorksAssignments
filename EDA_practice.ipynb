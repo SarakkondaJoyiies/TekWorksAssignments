{
 "cells": [
  {
   "cell_type": "markdown",
   "id": "073305d8",
   "metadata": {},
   "source": [
    "# Feature Engineering for 'data job posts' Dataset"
   ]
  },
  {
   "cell_type": "code",
   "execution_count": null,
   "id": "2cf9d8c4",
   "metadata": {},
   "outputs": [],
   "source": [
    "\n",
    "# Import necessary libraries\n",
    "import pandas as pd\n",
    "from sklearn.preprocessing import OneHotEncoder\n"
   ]
  },
  {
   "cell_type": "markdown",
   "id": "fd9ffbce",
   "metadata": {},
   "source": [
    "## Load the dataset"
   ]
  },
  {
   "cell_type": "code",
   "execution_count": null,
   "id": "03b2f57b",
   "metadata": {},
   "outputs": [],
   "source": [
    "\n",
    "# Load the dataset\n",
    "data = pd.read_csv(\"/mnt/data/data job posts.csv\")\n",
    "data.head()\n"
   ]
  },
  {
   "cell_type": "markdown",
   "id": "ae9790d6",
   "metadata": {},
   "source": [
    "## Convert the `date` column to datetime format"
   ]
  },
  {
   "cell_type": "code",
   "execution_count": null,
   "id": "325a2e49",
   "metadata": {},
   "outputs": [],
   "source": [
    "\n",
    "# Convert the 'date' column to datetime format\n",
    "data['date'] = pd.to_datetime(data['date'], errors='coerce')\n"
   ]
  },
  {
   "cell_type": "markdown",
   "id": "248ad2f3",
   "metadata": {},
   "source": [
    "## Extract date-related features"
   ]
  },
  {
   "cell_type": "code",
   "execution_count": null,
   "id": "fbfabe59",
   "metadata": {},
   "outputs": [],
   "source": [
    "\n",
    "# Extract date-related features\n",
    "data['DayOfWeek'] = data['date'].dt.dayofweek  # Monday=0, Sunday=6\n",
    "data['IsWeekend'] = data['DayOfWeek'].apply(lambda x: 1 if x >= 5 else 0)  # Weekend flag\n",
    "data['Month'] = data['date'].dt.month  # Extract month\n"
   ]
  },
  {
   "cell_type": "markdown",
   "id": "99fe1f09",
   "metadata": {},
   "source": [
    "## Aggregated features (job postings per month/year)"
   ]
  },
  {
   "cell_type": "code",
   "execution_count": null,
   "id": "dc93130e",
   "metadata": {},
   "outputs": [],
   "source": [
    "\n",
    "# Aggregated features (e.g., job postings per month/year)\n",
    "job_post_counts = data.groupby([data['date'].dt.year, data['Month']]).size().reset_index(name='JobPostCount')\n",
    "job_post_counts.rename(columns={0: 'Year'}, inplace=True)\n",
    "job_post_counts.head()\n"
   ]
  },
  {
   "cell_type": "markdown",
   "id": "e653db70",
   "metadata": {},
   "source": [
    "## Encode categorical variables (`Title`)"
   ]
  },
  {
   "cell_type": "code",
   "execution_count": null,
   "id": "35f67d63",
   "metadata": {},
   "outputs": [],
   "source": [
    "\n",
    "# Limiting to the top frequent 'Title' categories\n",
    "top_titles = data['Title'].value_counts().nlargest(20).index  # Top 20 most frequent titles\n",
    "data['Title_Simplified'] = data['Title'].apply(lambda x: x if x in top_titles else 'Other')\n",
    "\n",
    "# One-hot encode the simplified 'Title_Simplified'\n",
    "encoder = OneHotEncoder(sparse=False, handle_unknown='ignore')\n",
    "encoded_titles = encoder.fit_transform(data[['Title_Simplified']].fillna('Unknown'))\n",
    "title_encoded_df = pd.DataFrame(encoded_titles, columns=encoder.get_feature_names_out(['Title_Simplified']))\n",
    "\n",
    "# Combine the encoded features back to the original dataset\n",
    "data_encoded = pd.concat([data.reset_index(drop=True), title_encoded_df], axis=1)\n",
    "data_encoded.head()\n"
   ]
  },
  {
   "cell_type": "markdown",
   "id": "434188da",
   "metadata": {},
   "source": [
    "## Final Transformed Dataset"
   ]
  },
  {
   "cell_type": "code",
   "execution_count": null,
   "id": "e4b4afc9",
   "metadata": {},
   "outputs": [],
   "source": [
    "\n",
    "# Display the transformed dataset and job posting counts\n",
    "data_encoded.head(), job_post_counts.head()\n"
   ]
  }
 ],
 "metadata": {},
 "nbformat": 4,
 "nbformat_minor": 5
}
