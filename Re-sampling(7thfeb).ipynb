{
 "cells": [
  {
   "cell_type": "markdown",
   "id": "4286f571-eed1-4764-8719-71c3d0bceb0f",
   "metadata": {},
   "source": [
    "***Resampling***"
   ]
  },
  {
   "cell_type": "code",
   "execution_count": 27,
   "id": "81bc5810-5421-4588-863f-b28f4729e4ec",
   "metadata": {},
   "outputs": [
    {
     "data": {
      "text/plain": [
       "Class\n",
       "High    7\n",
       "Low     6\n",
       "Name: count, dtype: int64"
      ]
     },
     "execution_count": 27,
     "metadata": {},
     "output_type": "execute_result"
    }
   ],
   "source": [
    "import pandas as pd\n",
    "from sklearn.utils import resample\n",
    "\n",
    "#sample dataset\n",
    "df = pd.DataFrame({\n",
    "    'Age': [22, 25, 27, 28, 30, 35, 40, 45, 50, 55, 60, 65, 70],\n",
    "    'Income': [2000, 2500, 2700, 3200, 3500, 3800, 4000, 4200, 4300, 4500, 5000, 5500, 6000],\n",
    "    'Class': ['High', 'Low', 'Low', 'High', 'High', 'Low', 'High', 'High', 'Low',  'Low', 'High', 'High', 'Low']\n",
    "})\n",
    "\n",
    "df['Class'].value_counts()"
   ]
  },
  {
   "cell_type": "code",
   "execution_count": 35,
   "id": "22ca31af-865e-4bda-9f9c-c122d7aacaf2",
   "metadata": {},
   "outputs": [],
   "source": [
    "#separate majority and minority classes\n",
    "df_high = df[df['Class'] == 'High']\n",
    "df_low = df[df['Class'] == 'Low']"
   ]
  },
  {
   "cell_type": "code",
   "execution_count": 37,
   "id": "e59e24d9-b1da-4505-b0b1-ff158ea2d67e",
   "metadata": {},
   "outputs": [
    {
     "name": "stdout",
     "output_type": "stream",
     "text": [
      "Class\n",
      "High    6\n",
      "Low     6\n",
      "Name: count, dtype: int64\n"
     ]
    }
   ],
   "source": [
    "#Downsample majority class\n",
    "df_high_downsampled = resample(df_high, replace=False, n_samples=len(df_low), random_state=42)\n",
    "\n",
    "#combine downsampled majority with the minority class\n",
    "df_balanced = pd.concat([df_high_downsampled, df_low])\n",
    "print(df_balanced['Class'].value_counts())"
   ]
  },
  {
   "cell_type": "code",
   "execution_count": 39,
   "id": "a51c3550-33fe-4095-94de-a4092380488d",
   "metadata": {},
   "outputs": [
    {
     "name": "stdout",
     "output_type": "stream",
     "text": [
      "Class\n",
      "Low     7\n",
      "High    7\n",
      "Name: count, dtype: int64\n"
     ]
    }
   ],
   "source": [
    "#Upsample minority class\n",
    "df_low_upsampled = resample(df_low, replace=True, n_samples=len(df_high), random_state=42)\n",
    "\n",
    "#combine lowsampled minority with the majority class\n",
    "df_balanced = pd.concat([df_low_upsampled, df_high])\n",
    "print(df_balanced['Class'].value_counts())"
   ]
  },
  {
   "cell_type": "code",
   "execution_count": 41,
   "id": "2b47834a-8dc3-435a-8b11-022c6e23eae7",
   "metadata": {},
   "outputs": [
    {
     "data": {
      "text/plain": [
       "Class\n",
       "Majority    9\n",
       "Minority    4\n",
       "Name: count, dtype: int64"
      ]
     },
     "execution_count": 41,
     "metadata": {},
     "output_type": "execute_result"
    }
   ],
   "source": [
    "df = pd.DataFrame({\n",
    "    'Age': [22, 25, 27, 28, 30, 35, 40, 45, 50, 55, 60, 65, 70],\n",
    "    'Income': [2000, 2500, 2700, 3200, 3500, 3800, 4000, 4200, 4300, 4500, 5000, 5500, 6000],\n",
    "    'Class': ['Minority', 'Majority', 'Majority', 'Majority', 'Majority', 'Minority', 'Minority', 'Minority', 'Majority',  'Majority', 'Majority', 'Majority', 'Majority']\n",
    "})\n",
    "df['Class'].value_counts()"
   ]
  },
  {
   "cell_type": "code",
   "execution_count": 43,
   "id": "610f669e-33be-4d33-b2e7-0089a46d2795",
   "metadata": {},
   "outputs": [
    {
     "name": "stdout",
     "output_type": "stream",
     "text": [
      "Class\n",
      "Majority    4\n",
      "Minority    4\n",
      "Name: count, dtype: int64\n"
     ]
    }
   ],
   "source": [
    "#separate majority and minority classes\n",
    "df_majority = df[df['Class'] == 'Majority']\n",
    "df_minority = df[df['Class'] == 'Minority']\n",
    "\n",
    "#Downsample majority class\n",
    "df_majority_downsampled = resample(df_majority, replace=False, n_samples=len(df_minority), random_state=42)\n",
    "\n",
    "#combine downsampled majority with the minority class\n",
    "df_balanced = pd.concat([df_majority_downsampled, df_minority])\n",
    "print(df_balanced['Class'].value_counts())\n"
   ]
  },
  {
   "cell_type": "code",
   "execution_count": 45,
   "id": "4cd9cc15-f19f-4e5a-8613-8afc2850f073",
   "metadata": {},
   "outputs": [
    {
     "name": "stdout",
     "output_type": "stream",
     "text": [
      "Class\n",
      "Minority    9\n",
      "Majority    9\n",
      "Name: count, dtype: int64\n"
     ]
    }
   ],
   "source": [
    "#Upsample minority class\n",
    "df_minority_upsampled = resample(df_minority, replace=True, n_samples=len(df_majority), random_state=42)\n",
    "\n",
    "#combine lowsampled minority with the majority class\n",
    "df_balanced = pd.concat([df_minority_upsampled, df_majority])\n",
    "print(df_balanced['Class'].value_counts())"
   ]
  },
  {
   "cell_type": "markdown",
   "id": "94c9fcfb-0928-4a16-b7f3-c3d261a5e8e4",
   "metadata": {},
   "source": [
    "***SMOTE (Synthetic Minority Over-sampling Technique)*** to balance the dataset.\n",
    "\n",
    "SMOTE generate synthetic examples rather than simply duplicating the samples"
   ]
  },
  {
   "cell_type": "code",
   "execution_count": 53,
   "id": "ae6cf6a2-97e5-44be-b64f-6d61a8612f57",
   "metadata": {},
   "outputs": [
    {
     "name": "stdout",
     "output_type": "stream",
     "text": [
      "Requirement already satisfied: imbalanced-learn in c:\\users\\proxy1\\anaconda3\\lib\\site-packages (0.12.3)\n",
      "Requirement already satisfied: numpy>=1.17.3 in c:\\users\\proxy1\\anaconda3\\lib\\site-packages (from imbalanced-learn) (1.26.4)\n",
      "Requirement already satisfied: scipy>=1.5.0 in c:\\users\\proxy1\\anaconda3\\lib\\site-packages (from imbalanced-learn) (1.13.1)\n",
      "Requirement already satisfied: scikit-learn>=1.0.2 in c:\\users\\proxy1\\anaconda3\\lib\\site-packages (from imbalanced-learn) (1.5.1)\n",
      "Requirement already satisfied: joblib>=1.1.1 in c:\\users\\proxy1\\anaconda3\\lib\\site-packages (from imbalanced-learn) (1.4.2)\n",
      "Requirement already satisfied: threadpoolctl>=2.0.0 in c:\\users\\proxy1\\anaconda3\\lib\\site-packages (from imbalanced-learn) (3.5.0)\n",
      "Note: you may need to restart the kernel to use updated packages.\n"
     ]
    }
   ],
   "source": [
    "pip install imbalanced-learn"
   ]
  },
  {
   "cell_type": "code",
   "execution_count": 63,
   "id": "91cd6ef0-d609-454a-be5b-15311d160c7a",
   "metadata": {},
   "outputs": [
    {
     "name": "stdout",
     "output_type": "stream",
     "text": [
      "Class\n",
      "1    9\n",
      "0    9\n",
      "Name: count, dtype: int64\n",
      "    Age  Income  Class\n",
      "0    22    2000      1\n",
      "1    25    2500      0\n",
      "2    27    2700      0\n",
      "3    28    3200      0\n",
      "4    30    3500      0\n",
      "5    35    3800      1\n",
      "6    40    4000      1\n",
      "7    45    4200      1\n",
      "8    50    4300      0\n",
      "9    55    4500      0\n",
      "10   60    5000      0\n",
      "11   65    5500      0\n",
      "12   70    6000      0\n",
      "13   40    4031      1\n",
      "14   35    3831      1\n",
      "15   44    4176      1\n",
      "16   35    3826      1\n",
      "17   41    4040      1\n"
     ]
    }
   ],
   "source": [
    "import pandas as pd\n",
    "from imblearn.over_sampling import SMOTE\n",
    "\n",
    "df = pd.DataFrame({\n",
    "    'Age': [22, 25, 27, 28, 30, 35, 40, 45, 50, 55, 60, 65, 70],\n",
    "    'Income': [2000, 2500, 2700, 3200, 3500, 3800, 4000, 4200, 4300, 4500, 5000, 5500, 6000],\n",
    "    'Class': ['Minority', 'Majority', 'Majority', 'Majority', 'Majority', 'Minority', 'Minority', 'Minority', 'Majority',  'Majority', 'Majority', 'Majority', 'Majority']\n",
    "})\n",
    "df['Class'].value_counts()\n",
    "\n",
    "#Step1: Convert categorical labels to numerical values\n",
    "df['Class'] = df['Class'].map({'Majority': 0, 'Minority': 1})\n",
    "\n",
    "#Step2: Split features (X) and target variable (y)\n",
    "X = df[['Age', 'Income']]\n",
    "y = df['Class']\n",
    "\n",
    "#Step3: Apply SMOTE with k_neighbors=3 (reducing from default 5)\n",
    "smote = SMOTE(sampling_strategy='auto', random_state=42, k_neighbors=3)\n",
    "X_resampled, y_resampled = smote.fit_resample(X, y)\n",
    "\n",
    "#Step4: Convert numeric labels back to categorical\n",
    "X_resampled,y_resampled.map({'Majority': 0, 'Minority': 1})\n",
    "\n",
    "#Step5: Combine the resampled dataset\n",
    "df_balanced = pd.concat([pd.DataFrame(X_resampled, columns=['Age', 'Income']), pd.DataFrame(y_resampled, columns=['Class'])], axis=1)\n",
    "\n",
    "#Step6: print class distribution\n",
    "print(df_balanced['Class'].value_counts())\n",
    "\n",
    "#Step7: Display the unsampled dataset\n",
    "print(df_balanced)"
   ]
  },
  {
   "cell_type": "code",
   "execution_count": null,
   "id": "8b0b4960-76d4-4b73-8b84-42e084dfbcdc",
   "metadata": {},
   "outputs": [],
   "source": []
  }
 ],
 "metadata": {
  "kernelspec": {
   "display_name": "Python [conda env:base] *",
   "language": "python",
   "name": "conda-base-py"
  },
  "language_info": {
   "codemirror_mode": {
    "name": "ipython",
    "version": 3
   },
   "file_extension": ".py",
   "mimetype": "text/x-python",
   "name": "python",
   "nbconvert_exporter": "python",
   "pygments_lexer": "ipython3",
   "version": "3.12.7"
  }
 },
 "nbformat": 4,
 "nbformat_minor": 5
}
