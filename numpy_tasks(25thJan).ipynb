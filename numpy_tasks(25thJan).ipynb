{
 "cells": [
  {
   "cell_type": "code",
   "execution_count": 1,
   "id": "a1f5f1c1-6048-4ae9-bc5c-624e9a8162b6",
   "metadata": {},
   "outputs": [],
   "source": [
    "import numpy as np"
   ]
  },
  {
   "cell_type": "raw",
   "id": "d486df1f-67bb-42bf-9f72-424877048604",
   "metadata": {},
   "source": [
    "1.Array Creation"
   ]
  },
  {
   "cell_type": "code",
   "execution_count": 4,
   "id": "97a2eaba-536c-4e7a-b513-8579dbbe1510",
   "metadata": {},
   "outputs": [
    {
     "name": "stdout",
     "output_type": "stream",
     "text": [
      "[10 11 12 13 14 15 16 17 18 19 20 21 22 23 24 25 26 27 28 29 30 31 32 33\n",
      " 34 35 36 37 38 39 40 41 42 43 44 45 46 47 48 49 50]\n",
      "\n",
      "\n",
      "[[0.43116921 0.94501589 0.22492179]\n",
      " [0.52494608 0.88709583 0.38977686]\n",
      " [0.30653739 0.2110474  0.8195518 ]]\n"
     ]
    }
   ],
   "source": [
    "arr1 = np.arange(10, 51)\n",
    "print(arr1)\n",
    "print(\"\\n\")\n",
    "arr2 = np.random.rand(3, 3)\n",
    "print(arr2)"
   ]
  },
  {
   "cell_type": "raw",
   "id": "02c6335c-c025-4006-8f28-af3e819097b0",
   "metadata": {},
   "source": [
    "2.Array Attributes"
   ]
  },
  {
   "cell_type": "code",
   "execution_count": 8,
   "id": "22260ab0-a911-47c0-b311-947fa1cf26b8",
   "metadata": {},
   "outputs": [
    {
     "name": "stdout",
     "output_type": "stream",
     "text": [
      "(3, 3)\n",
      "9\n",
      "float64\n"
     ]
    }
   ],
   "source": [
    "shape = arr2.shape\n",
    "print(shape)\n",
    "size = arr2.size\n",
    "print(size)\n",
    "dtype = arr2.dtype\n",
    "print(dtype)"
   ]
  },
  {
   "cell_type": "markdown",
   "id": "c1c775ad-dc4c-42cf-832b-b8b3925ba411",
   "metadata": {},
   "source": [
    "3.Basic Operations"
   ]
  },
  {
   "cell_type": "code",
   "execution_count": 13,
   "id": "0eff3731-a68b-482e-a3ee-2f5a1fcd05aa",
   "metadata": {},
   "outputs": [
    {
     "name": "stdout",
     "output_type": "stream",
     "text": [
      "[15 16 17 18 19 20 21 22 23 24 25 26 27 28 29 30 31 32 33 34 35 36 37 38\n",
      " 39 40 41 42 43 44 45 46 47 48 49 50 51 52 53 54 55]\n",
      "[[ 5 12]\n",
      " [21 32]]\n"
     ]
    }
   ],
   "source": [
    "arr_plus_5 = arr1 + 5\n",
    "print(arr_plus_5)\n",
    "\n",
    "array1 = np.array([[1, 2], [3, 4]])\n",
    "array2 = np.array([[5, 6], [7, 8]])\n",
    "prod = array1 * array2\n",
    "print(prod)"
   ]
  },
  {
   "cell_type": "raw",
   "id": "2a6b2347-b2e6-4aa9-a8da-b8cf0cf7d85e",
   "metadata": {},
   "source": [
    "4.Indexing and Slicing"
   ]
  },
  {
   "cell_type": "code",
   "execution_count": 15,
   "id": "6cae532c-5aa9-4be1-a434-238f17c33621",
   "metadata": {},
   "outputs": [
    {
     "name": "stdout",
     "output_type": "stream",
     "text": [
      "[[ 1  2  3  4  5]\n",
      " [ 6  7  8  9 10]\n",
      " [11 12 13 14 15]\n",
      " [16 17 18 19 20]\n",
      " [21 22 23 24 25]]\n",
      "\n",
      "\n",
      "[1 2 3 4 5]\n",
      "\n",
      "\n",
      "[ 5 10 15 20 25]\n",
      "\n",
      "\n",
      "[[ 1  2]\n",
      " [ 6  7]\n",
      " [11 12]]\n"
     ]
    }
   ],
   "source": [
    "arr3 = np.arange(1, 26).reshape(5, 5)\n",
    "print(arr3)\n",
    "print(\"\\n\")\n",
    "first_row = arr3[0, :]\n",
    "print(first_row)\n",
    "print(\"\\n\")\n",
    "last_column = arr3[:, -1]\n",
    "print(last_column)\n",
    "print(\"\\n\")\n",
    "subarr = arr3[:3, :2]\n",
    "print(subarr)"
   ]
  },
  {
   "cell_type": "raw",
   "id": "9a2d2baa-6d06-4e1e-b6a9-76aa55c6c260",
   "metadata": {},
   "source": [
    "5.Aggregation"
   ]
  },
  {
   "cell_type": "code",
   "execution_count": 17,
   "id": "d73976dd-86e0-40cf-8bcf-377e89bff350",
   "metadata": {},
   "outputs": [
    {
     "name": "stdout",
     "output_type": "stream",
     "text": [
      "[69 18  6 97  5 61 85 23 13 16]\n",
      "97 \n",
      " 5 \n",
      " 39.3 \n",
      " 33.181470732925625\n"
     ]
    }
   ],
   "source": [
    "arr4 = np.random.randint(1,101,10)\n",
    "print(arr4)\n",
    "max_val = arr4.max()\n",
    "min_val = arr4.min()\n",
    "mean_val = arr4.mean()\n",
    "std_val = arr4.std()\n",
    "print(max_val,\"\\n\",min_val,\"\\n\",mean_val,\"\\n\",std_val)"
   ]
  },
  {
   "cell_type": "raw",
   "id": "49470ffb-3c6c-4274-bc59-197eb67a27d5",
   "metadata": {},
   "source": [
    "6.Reshaping"
   ]
  },
  {
   "cell_type": "code",
   "execution_count": 19,
   "id": "d17a7fcc-d3ef-4891-add3-1678e765da46",
   "metadata": {},
   "outputs": [
    {
     "name": "stdout",
     "output_type": "stream",
     "text": [
      "[[ 1  2  3  4]\n",
      " [ 5  6  7  8]\n",
      " [ 9 10 11 12]]\n"
     ]
    }
   ],
   "source": [
    "arr5 = np.arange(1, 13).reshape(3, 4)\n",
    "print(arr5)"
   ]
  },
  {
   "cell_type": "raw",
   "id": "c1084f06-437b-4b8d-93ab-eaaa2c1182e9",
   "metadata": {},
   "source": [
    "7.Broad Casting"
   ]
  },
  {
   "cell_type": "code",
   "execution_count": 22,
   "id": "fa097ee2-0f23-4273-a2a8-42463cf8abc9",
   "metadata": {},
   "outputs": [
    {
     "name": "stdout",
     "output_type": "stream",
     "text": [
      "[[1. 1. 1.]\n",
      " [1. 1. 1.]\n",
      " [1. 1. 1.]]\n",
      "\n",
      "\n",
      "[[2. 3. 4.]\n",
      " [2. 3. 4.]\n",
      " [2. 3. 4.]]\n"
     ]
    }
   ],
   "source": [
    "matrix_ones = np.ones((3, 3))\n",
    "print(matrix_ones)\n",
    "print(\"\\n\")\n",
    "result = matrix_ones + np.array([1, 2, 3])\n",
    "print(result)"
   ]
  },
  {
   "cell_type": "raw",
   "id": "6e69ed8e-e374-4b73-ba17-0db5ea0be5d7",
   "metadata": {},
   "source": [
    "8.Filtering"
   ]
  },
  {
   "cell_type": "code",
   "execution_count": 28,
   "id": "4ed2a683-948a-4fe7-b81b-0b124566cb98",
   "metadata": {},
   "outputs": [
    {
     "name": "stdout",
     "output_type": "stream",
     "text": [
      "[20 26 42 32 41  5 26 34 16 39 46 35  8 39 20]\n",
      "\n",
      "\n",
      "20\n",
      "5\n",
      "35\n",
      "20\n"
     ]
    }
   ],
   "source": [
    "array1 = np.random.randint(1, 51, size=15)\n",
    "print(array1)\n",
    "print(\"\\n\")\n",
    "\n",
    "for num in array1:\n",
    "    if num % 5 == 0:  \n",
    "        print(num)"
   ]
  },
  {
   "cell_type": "raw",
   "id": "449a1b72-f4f1-4b12-afb7-a2a8c267debf",
   "metadata": {},
   "source": [
    "9.Matrix Multiplication"
   ]
  },
  {
   "cell_type": "code",
   "execution_count": 29,
   "id": "4e6425cb-514d-4814-bf46-6b7dc9cea728",
   "metadata": {},
   "outputs": [
    {
     "name": "stdout",
     "output_type": "stream",
     "text": [
      "[[19 52]\n",
      " [38 68]]\n"
     ]
    }
   ],
   "source": [
    "matA = np.array([[9, 2], [3, 7]])\n",
    "matB = np.array([[1, 4], [5, 8]])\n",
    "mat_mul = np.dot(matA, matB)\n",
    "print(mat_mul)"
   ]
  },
  {
   "cell_type": "raw",
   "id": "e38e57d8-8fc7-4fdd-9b67-3f6e58e42bb2",
   "metadata": {},
   "source": [
    "10.Advanced Indexing"
   ]
  },
  {
   "cell_type": "code",
   "execution_count": 32,
   "id": "ee7c37a6-c55c-467b-bd62-5f679c6357c9",
   "metadata": {},
   "outputs": [
    {
     "name": "stdout",
     "output_type": "stream",
     "text": [
      "[[ 1  2  3  4]\n",
      " [ 5  6  7  8]\n",
      " [ 9 10 11 12]\n",
      " [13 14 15 16]]\n",
      "\n",
      "\n",
      "Diagonal elements are: [ 1  6 11 16]\n"
     ]
    }
   ],
   "source": [
    "array2 = np.arange(1, 17).reshape(4, 4)\n",
    "print(array2)\n",
    "print(\"\\n\")\n",
    "rows = [0,1,2,3]\n",
    "columns = [0,1,2,3]\n",
    "print(\"Diagonal elements are:\",array2[rows,columns])"
   ]
  }
 ],
 "metadata": {
  "kernelspec": {
   "display_name": "Python 3 (ipykernel)",
   "language": "python",
   "name": "python3"
  },
  "language_info": {
   "codemirror_mode": {
    "name": "ipython",
    "version": 3
   },
   "file_extension": ".py",
   "mimetype": "text/x-python",
   "name": "python",
   "nbconvert_exporter": "python",
   "pygments_lexer": "ipython3",
   "version": "3.12.7"
  }
 },
 "nbformat": 4,
 "nbformat_minor": 5
}
