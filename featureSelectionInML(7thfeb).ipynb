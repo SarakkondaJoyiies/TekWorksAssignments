{
 "cells": [
  {
   "cell_type": "markdown",
   "id": "ef8f32e4-ff59-4cda-ac57-2dce6b241c0c",
   "metadata": {},
   "source": [
    "**What is Feature Selection?**\n",
    " \n",
    "        Feature selection is the process of choosing the most important features (variables) from a dataset to improve a machine learning model's performance and efficiency. Instead of using all the features, we select only the most relevant ones that contribute significantly to predictions."
   ]
  },
  {
   "cell_type": "markdown",
   "id": "8376fe55-a1df-49a0-8b34-fa8fc2248089",
   "metadata": {},
   "source": [
    "**Why Do We Need Feature Selection?**\n",
    "       *1.Reduces Overfitting 📉*\n",
    " \n",
    "        Too many irrelevant features can make a model complex and cause it to overfit the training data.\n",
    "*2.Improves Model Performance 🚀*\n",
    " \n",
    "        Selecting relevant features boosts accuracy and reduces unnecessary noise in the data.\n",
    "*3.Reduces Training Time ⏳*\n",
    " \n",
    "        Fewer features mean faster model training and lower computational cost.\n",
    "*4.Enhances Interpretability 🔍*\n",
    " \n",
    "        Helps in understanding which features actually impact predictions."
   ]
  },
  {
   "cell_type": "markdown",
   "id": "81ae77bd-8410-4546-b2ba-7cf0a4665c68",
   "metadata": {},
   "source": [
    "**Types of Feature Selection Methods**\n",
    "\n",
    "<ins>*Type => Filter Methods:*</ins>\n",
    " \n",
    "Method => Correlation, Chi-Square, Mutual Information.\n",
    " \n",
    "Description => Rank features based on statistical tests.\n",
    " \n",
    "\n",
    "<ins>*Type => Wrapper Methods:*</ins>\n",
    " \n",
    "Method => Forward/Backward Selection, Recursive Feature Elimination (RFE)\n",
    " \n",
    "Description => Train models with different feature subsets and select the best.\n",
    "\n",
    "\n",
    "<ins>*Type => Embedded Methods*</ins>\n",
    " \n",
    "Method =>Lasso Regression, Decision Trees\n",
    " \n",
    "Description =>Feature selection is built into the model training process."
   ]
  },
  {
   "cell_type": "code",
   "execution_count": 22,
   "id": "e3063c7d-5109-4a59-8bbe-32ac4aef6258",
   "metadata": {},
   "outputs": [],
   "source": [
    "import pandas as pd \n",
    "import numpy as np \n",
    "from sklearn.model_selection import train_test_split \n",
    "from sklearn.ensemble import RandomForestRegressor \n",
    "from sklearn.feature_selection import RFE \n",
    "from sklearn.linear_model import Lasso \n",
    "import seaborn as sns \n",
    "import matplotlib.pyplot as plt"
   ]
  },
  {
   "cell_type": "code",
   "execution_count": 24,
   "id": "758a3bea-5675-401b-9f99-59411321ccbf",
   "metadata": {},
   "outputs": [],
   "source": [
    "#Step1 : Create a Sample Dataset\n",
    "np.random.seed(42)\n",
    "data = pd.DataFrame({\n",
    "    'Size': np.random.randint(1000, 5000, 100), #Square feet\n",
    "    'Bedrooms': np.random.randint(1, 50, 100), #Number of bedrooms\n",
    "    'Age': np.random.randint(1, 50, 100), #Age of the house\n",
    "    'Price': np.random.randint(100000, 500000, 100) #House price\n",
    "})"
   ]
  },
  {
   "cell_type": "code",
   "execution_count": 26,
   "id": "4fe73199-9151-4ef7-ba30-f38feca158f6",
   "metadata": {},
   "outputs": [
    {
     "data": {
      "text/html": [
       "<div>\n",
       "<style scoped>\n",
       "    .dataframe tbody tr th:only-of-type {\n",
       "        vertical-align: middle;\n",
       "    }\n",
       "\n",
       "    .dataframe tbody tr th {\n",
       "        vertical-align: top;\n",
       "    }\n",
       "\n",
       "    .dataframe thead th {\n",
       "        text-align: right;\n",
       "    }\n",
       "</style>\n",
       "<table border=\"1\" class=\"dataframe\">\n",
       "  <thead>\n",
       "    <tr style=\"text-align: right;\">\n",
       "      <th></th>\n",
       "      <th>Size</th>\n",
       "      <th>Bedrooms</th>\n",
       "      <th>Age</th>\n",
       "      <th>Price</th>\n",
       "    </tr>\n",
       "  </thead>\n",
       "  <tbody>\n",
       "    <tr>\n",
       "      <th>0</th>\n",
       "      <td>4174</td>\n",
       "      <td>18</td>\n",
       "      <td>2</td>\n",
       "      <td>185981</td>\n",
       "    </tr>\n",
       "    <tr>\n",
       "      <th>1</th>\n",
       "      <td>4507</td>\n",
       "      <td>26</td>\n",
       "      <td>42</td>\n",
       "      <td>130306</td>\n",
       "    </tr>\n",
       "    <tr>\n",
       "      <th>2</th>\n",
       "      <td>1860</td>\n",
       "      <td>44</td>\n",
       "      <td>45</td>\n",
       "      <td>247718</td>\n",
       "    </tr>\n",
       "    <tr>\n",
       "      <th>3</th>\n",
       "      <td>2294</td>\n",
       "      <td>34</td>\n",
       "      <td>6</td>\n",
       "      <td>408987</td>\n",
       "    </tr>\n",
       "    <tr>\n",
       "      <th>4</th>\n",
       "      <td>2130</td>\n",
       "      <td>10</td>\n",
       "      <td>28</td>\n",
       "      <td>220975</td>\n",
       "    </tr>\n",
       "  </tbody>\n",
       "</table>\n",
       "</div>"
      ],
      "text/plain": [
       "   Size  Bedrooms  Age   Price\n",
       "0  4174        18    2  185981\n",
       "1  4507        26   42  130306\n",
       "2  1860        44   45  247718\n",
       "3  2294        34    6  408987\n",
       "4  2130        10   28  220975"
      ]
     },
     "execution_count": 26,
     "metadata": {},
     "output_type": "execute_result"
    }
   ],
   "source": [
    "data.head()"
   ]
  },
  {
   "cell_type": "code",
   "execution_count": 28,
   "id": "d58c8db8-2477-4fd0-99ae-50ac1553680d",
   "metadata": {},
   "outputs": [
    {
     "data": {
      "image/png": "[encoded data removed]",
      "text/plain": [
       "<Figure size 600x400 with 2 Axes>"
      ]
     },
     "metadata": {},
     "output_type": "display_data"
    }
   ],
   "source": [
    "#Step2 : Compute Correlation (Filter method)\n",
    "plt.figure(figsize=(6, 4))\n",
    "sns.heatmap(data.corr(), annot=True, cmap='flare', fmt='.2f')\n",
    "plt.title(\"Feature Correlation Matrix\")\n",
    "plt.show()\n",
    "#Compute correlation to see how features relate to the target"
   ]
  },
  {
   "cell_type": "code",
   "execution_count": 30,
   "id": "c48ab11b-94b5-42b7-a40e-be0111343460",
   "metadata": {},
   "outputs": [
    {
     "name": "stdout",
     "output_type": "stream",
     "text": [
      "Selected Features using RFE: Index(['Size', 'Bedrooms'], dtype='object')\n"
     ]
    }
   ],
   "source": [
    "#Step3 : Apply Recursive Feature Elimination (Wrapper Method)\n",
    "X = data.drop(columns=['Price']) #Features\n",
    "y = data['Price'] #Target variable\n",
    "model = RandomForestRegressor()\n",
    "rfe = RFE(model, n_features_to_select=2) #Select top 2 features\n",
    "X_selected = rfe.fit_transform(X,y)\n",
    "print(\"Selected Features using RFE:\", X.columns[rfe.support_])\n",
    "\n",
    "#Apply RFE (Wrapper method) to select the top 2 imp features."
   ]
  },
  {
   "cell_type": "code",
   "execution_count": 36,
   "id": "f8162db7-43ec-4d62-80c9-e4b45996bdfa",
   "metadata": {},
   "outputs": [
    {
     "name": "stdout",
     "output_type": "stream",
     "text": [
      "Selected features using lasso: Index(['Size', 'Bedrooms', 'Age'], dtype='object')\n"
     ]
    }
   ],
   "source": [
    "#Step4: Apply Lasso (Least Absolute Shrinkage and selection Operator) Regression (Embedded Method)\n",
    "lasso = Lasso(alpha=0.1)\n",
    "lasso.fit(X,y)\n",
    "importance = np.abs(lasso.coef_)\n",
    "\n",
    "#Display feature importance\n",
    "selected_features = X.columns[importance > 0]\n",
    "print(\"Selected features using lasso:\", selected_features)\n",
    "s\n",
    "#Apply lasso regression (embedded method) to eliminate irrelevant features."
   ]
  },
  {
   "cell_type": "code",
   "execution_count": null,
   "id": "1aa9da6d-87a6-43bc-a94a-607ed003bf60",
   "metadata": {},
   "outputs": [],
   "source": []
  }
 ],
 "metadata": {
  "kernelspec": {
   "display_name": "Python [conda env:base] *",
   "language": "python",
   "name": "conda-base-py"
  },
  "language_info": {
   "codemirror_mode": {
    "name": "ipython",
    "version": 3
   },
   "file_extension": ".py",
   "mimetype": "text/x-python",
   "name": "python",
   "nbconvert_exporter": "python",
   "pygments_lexer": "ipython3",
   "version": "3.12.7"
  }
 },
 "nbformat": 4,
 "nbformat_minor": 5
}
