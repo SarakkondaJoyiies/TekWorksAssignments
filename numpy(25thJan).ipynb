{
 "cells": [
  {
   "cell_type": "markdown",
   "id": "95a52fe4-9fc3-4b2d-be2a-a2dcdb8efb15",
   "metadata": {},
   "source": [
    "# numpy library.............."
   ]
  },
  {
   "cell_type": "code",
   "execution_count": 1,
   "id": "a1af1dbb-b63a-442c-8011-6425ca73282b",
   "metadata": {},
   "outputs": [
    {
     "name": "stdout",
     "output_type": "stream",
     "text": [
      "Requirement already satisfied: numpy in c:\\users\\proxy1\\anaconda3\\lib\\site-packages (1.26.4)\n"
     ]
    }
   ],
   "source": [
    "!pip install numpy"
   ]
  },
  {
   "cell_type": "code",
   "execution_count": 3,
   "id": "963e6d88-dfcf-44f2-80e4-9d6e37f29f41",
   "metadata": {},
   "outputs": [],
   "source": [
    "import numpy as np"
   ]
  },
  {
   "cell_type": "code",
   "execution_count": 5,
   "id": "55a12462-7b56-4fc4-9592-7ab3aae7f0d6",
   "metadata": {},
   "outputs": [
    {
     "name": "stdout",
     "output_type": "stream",
     "text": [
      "[1 2 3]\n"
     ]
    }
   ],
   "source": [
    "arr_1d = np.array([1,2,3])\n",
    "print(arr_1d)"
   ]
  },
  {
   "cell_type": "code",
   "execution_count": 7,
   "id": "e25208d1-8385-4b31-8f1a-41ca0e9b4654",
   "metadata": {},
   "outputs": [
    {
     "name": "stdout",
     "output_type": "stream",
     "text": [
      "[[1 2 3]\n",
      " [4 5 6]]\n"
     ]
    }
   ],
   "source": [
    "arr_2d = np.array([[1,2,3],[4,5,6]])\n",
    "print(arr_2d)"
   ]
  },
  {
   "cell_type": "code",
   "execution_count": 15,
   "id": "b4014893-289d-4e51-b076-e715e60d5cd7",
   "metadata": {},
   "outputs": [
    {
     "name": "stdout",
     "output_type": "stream",
     "text": [
      "[[0. 0. 0.]\n",
      " [0. 0. 0.]\n",
      " [0. 0. 0.]]\n",
      "\n",
      "\n",
      "[[1. 1. 1.]\n",
      " [1. 1. 1.]\n",
      " [1. 1. 1.]]\n",
      "\n",
      "\n",
      "[[0.63981033 0.93816355 0.30998088 0.7053859 ]\n",
      " [0.88156812 0.48054376 0.50905898 0.04401265]\n",
      " [0.42574062 0.06829367 0.02655638 0.29952792]\n",
      " [0.38157405 0.55842947 0.87975896 0.35976442]]\n"
     ]
    }
   ],
   "source": [
    "zeros = np.zeros((3,3))\n",
    "print(zeros)\n",
    "print('\\n')\n",
    "ones = np.ones((3,3))\n",
    "print(ones)\n",
    "print('\\n')\n",
    "random_arr = np.random.random((4,4))\n",
    "print(random_arr)"
   ]
  },
  {
   "cell_type": "code",
   "execution_count": 17,
   "id": "f2ccdc95-305a-43fa-960d-df37b8736287",
   "metadata": {},
   "outputs": [
    {
     "name": "stdout",
     "output_type": "stream",
     "text": [
      "[[1. 0. 0. 0. 0. 0. 0. 0.]\n",
      " [0. 1. 0. 0. 0. 0. 0. 0.]\n",
      " [0. 0. 1. 0. 0. 0. 0. 0.]\n",
      " [0. 0. 0. 1. 0. 0. 0. 0.]\n",
      " [0. 0. 0. 0. 1. 0. 0. 0.]\n",
      " [0. 0. 0. 0. 0. 1. 0. 0.]\n",
      " [0. 0. 0. 0. 0. 0. 1. 0.]\n",
      " [0. 0. 0. 0. 0. 0. 0. 1.]]\n"
     ]
    }
   ],
   "source": [
    "identity = np.eye(8)\n",
    "print(identity)"
   ]
  },
  {
   "cell_type": "code",
   "execution_count": 21,
   "id": "3ee8df21-a96e-4add-ac7f-f0be4558b3f2",
   "metadata": {},
   "outputs": [
    {
     "name": "stdout",
     "output_type": "stream",
     "text": [
      "[0 2 4 6 8]\n"
     ]
    }
   ],
   "source": [
    "range_arr = np.arange(0, 10, 2)\n",
    "print(range_arr)"
   ]
  },
  {
   "cell_type": "code",
   "execution_count": 33,
   "id": "05a143a0-704e-449e-9931-47c4243fa866",
   "metadata": {},
   "outputs": [
    {
     "name": "stdout",
     "output_type": "stream",
     "text": [
      "Shape: (2, 3)\n",
      "Size: 6\n",
      "Datatype: int32\n",
      "Number of Dimensions: 2\n"
     ]
    }
   ],
   "source": [
    "arr = np.array([[5,6,9],[8,2,1]])\n",
    "print(\"Shape:\", arr.shape)\n",
    "print(\"Size:\", arr.size)\n",
    "print(\"Datatype:\",arr.dtype)\n",
    "print(\"Number of Dimensions:\",arr.ndim)"
   ]
  },
  {
   "cell_type": "code",
   "execution_count": 35,
   "id": "4ffcde6c-28aa-4729-8a8c-1a4e8ff02d23",
   "metadata": {},
   "outputs": [
    {
     "name": "stdout",
     "output_type": "stream",
     "text": [
      "6\n"
     ]
    }
   ],
   "source": [
    "print(arr[0,1])"
   ]
  },
  {
   "cell_type": "code",
   "execution_count": 37,
   "id": "0fa7da03-a862-4818-8e3a-8f11373f76c3",
   "metadata": {},
   "outputs": [
    {
     "name": "stdout",
     "output_type": "stream",
     "text": [
      "1\n"
     ]
    }
   ],
   "source": [
    "print(arr[1,2])"
   ]
  },
  {
   "cell_type": "code",
   "execution_count": 39,
   "id": "2602b86a-54e7-442e-bdcd-7c2cd4d0b565",
   "metadata": {},
   "outputs": [
    {
     "name": "stdout",
     "output_type": "stream",
     "text": [
      "1\n"
     ]
    }
   ],
   "source": [
    "print(arr[1,-1])"
   ]
  },
  {
   "cell_type": "code",
   "execution_count": 47,
   "id": "b3930980-d89f-4d83-92f0-a3e3dc50b848",
   "metadata": {},
   "outputs": [
    {
     "name": "stdout",
     "output_type": "stream",
     "text": [
      "[[5 6]\n",
      " [8 2]]\n"
     ]
    }
   ],
   "source": [
    "arr1 = arr[:2,:2]\n",
    "print(arr1)"
   ]
  },
  {
   "cell_type": "code",
   "execution_count": 53,
   "id": "32fe44b4-e79d-4a0b-bfa3-d57a35b61284",
   "metadata": {},
   "outputs": [
    {
     "name": "stdout",
     "output_type": "stream",
     "text": [
      "[[6 9]\n",
      " [2 1]]\n"
     ]
    }
   ],
   "source": [
    "arr2 = arr[:,1:]\n",
    "print(arr2)"
   ]
  },
  {
   "cell_type": "code",
   "execution_count": 63,
   "id": "5c548bfb-620d-45af-b0ed-da72659a031c",
   "metadata": {},
   "outputs": [
    {
     "name": "stdout",
     "output_type": "stream",
     "text": [
      "Addition: [ 68  97 103]\n",
      "Subtraction: [22 59 29]\n",
      "Multiplication: [1035 1482 2442]\n"
     ]
    }
   ],
   "source": [
    "A = np.array([45,78,66])\n",
    "B = np.array([23,19,37])\n",
    "print('Addition:',A+B)\n",
    "print('Subtraction:',A-B)\n",
    "print('Multiplication:',A*B)"
   ]
  },
  {
   "cell_type": "code",
   "execution_count": 73,
   "id": "fe41801e-a50e-4448-a23f-df5ca53b230d",
   "metadata": {},
   "outputs": [
    {
     "name": "stdout",
     "output_type": "stream",
     "text": [
      "Matrix Multiplication is: [[ 7 16 27]\n",
      " [36  5 12]\n",
      " [16 25 36]]\n"
     ]
    }
   ],
   "source": [
    "X = np.array([[1,2,3],[4,5,6],[4,5,6]])\n",
    "Y = np.array([[7,8,9],[9,1,2],[4,5,6]])\n",
    "print(\"Matrix Multiplication is:\", X*Y)"
   ]
  },
  {
   "cell_type": "code",
   "execution_count": 81,
   "id": "0291b6cf-e9b3-42b1-8052-1cb432a72156",
   "metadata": {},
   "outputs": [
    {
     "name": "stdout",
     "output_type": "stream",
     "text": [
      "[[37 25 31]\n",
      " [97 67 82]\n",
      " [97 67 82]]\n"
     ]
    }
   ],
   "source": [
    "result = (np.dot(X,Y))\n",
    "print(result)"
   ]
  },
  {
   "cell_type": "code",
   "execution_count": 83,
   "id": "a9b104e6-b287-487f-81b9-ecc6b28a7b3c",
   "metadata": {},
   "outputs": [
    {
     "data": {
      "image/png": "[encoded data removed]",
      "text/plain": [
       "<Figure size 640x480 with 1 Axes>"
      ]
     },
     "metadata": {},
     "output_type": "display_data"
    }
   ],
   "source": [
    "import matplotlib.pyplot as plt\n",
    "plt.plot(result)\n",
    "plt.show()"
   ]
  },
  {
   "cell_type": "code",
   "execution_count": 93,
   "id": "abf637e9-9694-45fa-a3fc-d1c628e86a5a",
   "metadata": {},
   "outputs": [
    {
     "name": "stdout",
     "output_type": "stream",
     "text": [
      "[[1.48413159e+02 4.03428793e+02 8.10308393e+03]\n",
      " [2.98095799e+03 7.38905610e+00 2.71828183e+00]]\n",
      "\n",
      "\n",
      "[[2.23606798 2.44948974 3.        ]\n",
      " [2.82842712 1.41421356 1.        ]]\n",
      "\n",
      "\n",
      "[[1.60943791 1.79175947 2.19722458]\n",
      " [2.07944154 0.69314718 0.        ]]\n"
     ]
    }
   ],
   "source": [
    "# Universal Functions\n",
    "\n",
    "print(np.exp(arr))\n",
    "print('\\n')\n",
    "print(np.sqrt(arr))\n",
    "print('\\n')\n",
    "print(np.log(arr))"
   ]
  },
  {
   "cell_type": "code",
   "execution_count": 99,
   "id": "939aa9ab-52a7-4d35-9502-2e0c556312fb",
   "metadata": {},
   "outputs": [
    {
     "name": "stdout",
     "output_type": "stream",
     "text": [
      "Sum: 76\n",
      "Mean: 12.666666666666666\n",
      "Standard Deviation: 8.299933065325822\n",
      "Max: 25\n",
      "Min: 1\n"
     ]
    }
   ],
   "source": [
    "# Aggregate Functions\n",
    "\n",
    "arr1 = np.array([1,5,10,15,20,25])\n",
    "print(\"Sum:\",np.sum(arr1))\n",
    "print(\"Mean:\",np.mean(arr1))\n",
    "print(\"Standard Deviation:\",np.std(arr1))\n",
    "print(\"Max:\",np.max(arr1))\n",
    "print(\"Min:\",np.min(arr1))"
   ]
  },
  {
   "cell_type": "code",
   "execution_count": 101,
   "id": "76af7158-8248-4fb4-b6b0-1d473aa17459",
   "metadata": {},
   "outputs": [
    {
     "name": "stdout",
     "output_type": "stream",
     "text": [
      "[[ 1  5 10]\n",
      " [15 20 25]]\n"
     ]
    }
   ],
   "source": [
    "reshaped = arr1.reshape(2,3)\n",
    "print(reshaped)"
   ]
  },
  {
   "cell_type": "code",
   "execution_count": 107,
   "id": "9ae81219-7381-43c3-a901-d8038b44108f",
   "metadata": {},
   "outputs": [
    {
     "name": "stdout",
     "output_type": "stream",
     "text": [
      "[[1 2]\n",
      " [3 4]]\n",
      "\n",
      "\n",
      "[1 2 3 4]\n",
      "\n",
      "\n",
      "[3 4 1 2]\n"
     ]
    }
   ],
   "source": [
    "#Stacking\n",
    "\n",
    "a = np.array([1,2])\n",
    "b = np.array([3,4])\n",
    "print(np.vstack((a,b)))\n",
    "print('\\n')\n",
    "print(np.hstack((a,b)))\n",
    "print('\\n')\n",
    "print(np.hstack((b,a)))"
   ]
  },
  {
   "cell_type": "code",
   "execution_count": 111,
   "id": "e2055769-8838-410d-8a71-ca319fed6de7",
   "metadata": {},
   "outputs": [
    {
     "name": "stdout",
     "output_type": "stream",
     "text": [
      "[array([1, 2]), array([3, 4]), array([5, 6])]\n"
     ]
    }
   ],
   "source": [
    "#Splitting\n",
    "\n",
    "c = np.array([1,2,3,4,5,6])\n",
    "print(np.array_split(c,3))"
   ]
  },
  {
   "cell_type": "code",
   "execution_count": 117,
   "id": "4e32d31d-230e-40b1-bd22-533adb75af6c",
   "metadata": {},
   "outputs": [
    {
     "name": "stdout",
     "output_type": "stream",
     "text": [
      "[10  2  3]\n",
      "[10  2  3]\n"
     ]
    }
   ],
   "source": [
    "# Copy vs. View\n",
    "\n",
    "d = np.array([1,2,3])\n",
    "view = d.view()\n",
    "view[0] = 10\n",
    "print(d)\n",
    "\n",
    "copy = d.copy()\n",
    "copy[0] = 100\n",
    "print(d)"
   ]
  },
  {
   "cell_type": "code",
   "execution_count": 121,
   "id": "006d6747-81b8-485d-a1c3-fa3ac92e07b0",
   "metadata": {},
   "outputs": [
    {
     "name": "stdout",
     "output_type": "stream",
     "text": [
      "[1 2 3]\n"
     ]
    }
   ],
   "source": [
    "#Saving & Loading\n",
    "\n",
    "C = np.array([1,2,3])\n",
    "np.save('array.npy',C)\n",
    "\n",
    "loaded_arr = np.load('array.npy')\n",
    "print(loaded_arr)"
   ]
  },
  {
   "cell_type": "code",
   "execution_count": null,
   "id": "c108f98b-93d7-4d08-9218-e57861f28f39",
   "metadata": {},
   "outputs": [],
   "source": []
  }
 ],
 "metadata": {
  "kernelspec": {
   "display_name": "Python [conda env:base] *",
   "language": "python",
   "name": "conda-base-py"
  },
  "language_info": {
   "codemirror_mode": {
    "name": "ipython",
    "version": 3
   },
   "file_extension": ".py",
   "mimetype": "text/x-python",
   "name": "python",
   "nbconvert_exporter": "python",
   "pygments_lexer": "ipython3",
   "version": "3.12.7"
  }
 },
 "nbformat": 4,
 "nbformat_minor": 5
}
